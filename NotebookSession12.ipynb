{
 "cells": [
  {
   "cell_type": "code",
   "execution_count": 1,
   "metadata": {},
   "outputs": [],
   "source": [
    "import math\n",
    "from session12 import Polygon\n",
    "from polysequence import *"
   ]
  },
  {
   "cell_type": "markdown",
   "metadata": {},
   "source": [
    "### Goal 1\n",
    "Refactor the Polygon class so that all the calculated properties are lazy properties, i.e. they should still be calculated ## properties, but they should not have to get recalculated more than once (since we made our Polygon class \"immutable\").\n",
    "Calling the Polygon Class and calling the variables for the first time. As you can see the first time everything is getting calculated on the fly\n",
    "Also some of the values like edges are being called inside other formula and as you can see they are picking from calculated value "
   ]
  },
  {
   "cell_type": "markdown",
   "metadata": {},
   "source": [
    "#### Lets try to create a polygon class and print the properties, we can observe they are getting calcuated for the first time"
   ]
  },
  {
   "cell_type": "code",
   "execution_count": 2,
   "metadata": {},
   "outputs": [
    {
     "name": "stdout",
     "output_type": "stream",
     "text": [
      "interior_angle calculation done for first time and stored\n",
      "side_length calculation done for first time and stored\n",
      "apothem calculation done for first time and stored\n",
      "area calculation done for first time and stored\n",
      "perimeter calculation done for first time and stored\n",
      "Interior angle is 165.6, side length is 1.503998802771651, apothem is 5.952688207886867, area is 111.91044922418466, perimeter is 37.599970069291274\n"
     ]
    }
   ],
   "source": [
    "p = Polygon(25,6)\n",
    "print(f'Interior angle is {p.interior_angle}, side length is {p.side_length}, apothem is {p.apothem}, area is {p.area}, perimeter is {p.perimeter}')"
   ]
  },
  {
   "cell_type": "markdown",
   "metadata": {},
   "source": [
    "#### Lets try to run the print again, we can see that calcuated values are printed"
   ]
  },
  {
   "cell_type": "code",
   "execution_count": 3,
   "metadata": {},
   "outputs": [
    {
     "name": "stdout",
     "output_type": "stream",
     "text": [
      "Interior angle is 165.6, side length is 1.503998802771651, apothem is 5.952688207886867, area is 111.91044922418466, perimeter is 37.599970069291274\n"
     ]
    }
   ],
   "source": [
    "print(f'Interior angle is {p.interior_angle}, side length is {p.side_length}, apothem is {p.apothem}, area is {p.area}, perimeter is {p.perimeter}')"
   ]
  },
  {
   "cell_type": "markdown",
   "metadata": {},
   "source": [
    "### Goal 2\n",
    "Refactor the Polygons (sequence) type, into an iterable. Make sure also that the elements in the iterator are computed lazily - i.e. you can no longer use a list as an underlying storage mechanism for your polygons.\n",
    "As you can see we are using iterator and iterable to print next values\n",
    "p2 is an instance of Polygons class and we are using iterator on top p2 instance and accessing values inside.\n",
    "We are using two print statements to show th"
   ]
  },
  {
   "cell_type": "code",
   "execution_count": 4,
   "metadata": {},
   "outputs": [
    {
     "name": "stdout",
     "output_type": "stream",
     "text": [
      "Polygon(n=3, R=4)\n",
      "side_length calculation done for first time and stored\n",
      "interior_angle calculation done for first time and stored\n",
      "apothem calculation done for first time and stored\n",
      "area calculation done for first time and stored\n",
      "perimeter calculation done for first time and stored\n",
      "number of vertices = 3    number of edges = 3    Edge Length = 6.928203230275509    interior angle = 60.0    apothem = 2.0000000000000004    area = 20.78460969082653    perimeter = 20.784609690826528\n",
      "==============================================================================================================\n",
      "Polygon(n=4, R=4)\n",
      "side_length calculation done for first time and stored\n",
      "interior_angle calculation done for first time and stored\n",
      "apothem calculation done for first time and stored\n",
      "area calculation done for first time and stored\n",
      "perimeter calculation done for first time and stored\n",
      "number of vertices = 4    number of edges = 4    Edge Length = 5.656854249492381    interior angle = 90.0    apothem = 2.8284271247461903    area = 32.00000000000001    perimeter = 22.627416997969522\n",
      "==============================================================================================================\n",
      "Polygon(n=5, R=4)\n",
      "side_length calculation done for first time and stored\n",
      "interior_angle calculation done for first time and stored\n",
      "apothem calculation done for first time and stored\n",
      "area calculation done for first time and stored\n",
      "perimeter calculation done for first time and stored\n",
      "number of vertices = 5    number of edges = 5    Edge Length = 4.702282018339785    interior angle = 108.0    apothem = 3.23606797749979    area = 38.042260651806146    perimeter = 23.511410091698927\n",
      "==============================================================================================================\n",
      "Polygon(n=6, R=4)\n",
      "side_length calculation done for first time and stored\n",
      "interior_angle calculation done for first time and stored\n",
      "apothem calculation done for first time and stored\n",
      "area calculation done for first time and stored\n",
      "perimeter calculation done for first time and stored\n",
      "number of vertices = 6    number of edges = 6    Edge Length = 3.9999999999999996    interior angle = 120.0    apothem = 3.464101615137755    area = 41.56921938165305    perimeter = 23.999999999999996\n",
      "==============================================================================================================\n",
      "Polygon(n=7, R=4)\n",
      "side_length calculation done for first time and stored\n",
      "interior_angle calculation done for first time and stored\n",
      "apothem calculation done for first time and stored\n",
      "area calculation done for first time and stored\n",
      "perimeter calculation done for first time and stored\n",
      "number of vertices = 7    number of edges = 7    Edge Length = 3.471069912940465    interior angle = 128.57142857142858    apothem = 3.6038754716096766    area = 43.78256301820967    perimeter = 24.297489390583255\n",
      "==============================================================================================================\n",
      "Polygon(n=8, R=4)\n",
      "side_length calculation done for first time and stored\n",
      "interior_angle calculation done for first time and stored\n",
      "apothem calculation done for first time and stored\n",
      "area calculation done for first time and stored\n",
      "perimeter calculation done for first time and stored\n",
      "number of vertices = 8    number of edges = 8    Edge Length = 3.0614674589207183    interior angle = 135.0    apothem = 3.695518130045147    area = 45.254833995939045    perimeter = 24.491739671365746\n",
      "==============================================================================================================\n",
      "Polygon(n=9, R=4)\n",
      "side_length calculation done for first time and stored\n",
      "interior_angle calculation done for first time and stored\n",
      "apothem calculation done for first time and stored\n",
      "area calculation done for first time and stored\n",
      "perimeter calculation done for first time and stored\n",
      "number of vertices = 9    number of edges = 9    Edge Length = 2.7361611466053497    interior angle = 140.0    apothem = 3.7587704831436337    area = 46.28070789743084    perimeter = 24.62545031944815\n",
      "==============================================================================================================\n",
      "Polygon(n=10, R=4)\n",
      "side_length calculation done for first time and stored\n",
      "interior_angle calculation done for first time and stored\n",
      "apothem calculation done for first time and stored\n",
      "area calculation done for first time and stored\n",
      "perimeter calculation done for first time and stored\n",
      "number of vertices = 10    number of edges = 10    Edge Length = 2.472135954999579    interior angle = 144.0    apothem = 3.804226065180614    area = 47.02282018339785    perimeter = 24.721359549995793\n",
      "==============================================================================================================\n",
      "Polygon(n=11, R=4)\n",
      "side_length calculation done for first time and stored\n",
      "interior_angle calculation done for first time and stored\n",
      "apothem calculation done for first time and stored\n",
      "area calculation done for first time and stored\n",
      "perimeter calculation done for first time and stored\n",
      "number of vertices = 11    number of edges = 11    Edge Length = 2.2538604547314374    interior angle = 147.27272727272728    apothem = 3.8379718944579895    area = 47.576391936092584    perimeter = 24.792465002045812\n",
      "==============================================================================================================\n",
      "Polygon(n=12, R=4)\n",
      "side_length calculation done for first time and stored\n",
      "interior_angle calculation done for first time and stored\n",
      "apothem calculation done for first time and stored\n",
      "area calculation done for first time and stored\n",
      "perimeter calculation done for first time and stored\n",
      "number of vertices = 12    number of edges = 12    Edge Length = 2.070552360820166    interior angle = 150.0    apothem = 3.8637033051562732    area = 48.0    perimeter = 24.84662832984199\n",
      "==============================================================================================================\n",
      "Polygon(n=13, R=4)\n",
      "side_length calculation done for first time and stored\n",
      "interior_angle calculation done for first time and stored\n",
      "apothem calculation done for first time and stored\n",
      "area calculation done for first time and stored\n",
      "perimeter calculation done for first time and stored\n",
      "number of vertices = 13    number of edges = 13    Edge Length = 1.914525314300462    interior angle = 152.30769230769232    apothem = 3.883767269704208    area = 48.33120989255192    perimeter = 24.888829085906004\n",
      "==============================================================================================================\n",
      "Polygon(n=14, R=4)\n",
      "side_length calculation done for first time and stored\n",
      "interior_angle calculation done for first time and stored\n",
      "apothem calculation done for first time and stored\n",
      "area calculation done for first time and stored\n",
      "perimeter calculation done for first time and stored\n",
      "number of vertices = 14    number of edges = 14    Edge Length = 1.7801674716505151    interior angle = 154.28571428571428    apothem = 3.8997116487272945    area = 48.59497878116651    perimeter = 24.922344603107213\n",
      "==============================================================================================================\n",
      "Polygon(n=15, R=4)\n",
      "side_length calculation done for first time and stored\n",
      "interior_angle calculation done for first time and stored\n",
      "apothem calculation done for first time and stored\n",
      "area calculation done for first time and stored\n",
      "perimeter calculation done for first time and stored\n",
      "number of vertices = 15    number of edges = 15    Edge Length = 1.6632935265420745    interior angle = 156.0    apothem = 3.9125904029352228    area = 48.808397169096025    perimeter = 24.94940289813112\n",
      "==============================================================================================================\n",
      "Polygon(n=16, R=4)\n",
      "side_length calculation done for first time and stored\n",
      "interior_angle calculation done for first time and stored\n",
      "apothem calculation done for first time and stored\n",
      "area calculation done for first time and stored\n",
      "perimeter calculation done for first time and stored\n",
      "number of vertices = 16    number of edges = 16    Edge Length = 1.560722576129026    interior angle = 157.5    apothem = 3.9231411216129217    area = 48.983479342731485    perimeter = 24.971561218064416\n",
      "==============================================================================================================\n",
      "Polygon(n=17, R=4)\n",
      "side_length calculation done for first time and stored\n",
      "interior_angle calculation done for first time and stored\n",
      "apothem calculation done for first time and stored\n",
      "area calculation done for first time and stored\n",
      "perimeter calculation done for first time and stored\n",
      "number of vertices = 17    number of edges = 17    Edge Length = 1.4699961425325627    interior angle = 158.8235294117647    apothem = 3.931892398735607    area = 49.1288666014528    perimeter = 24.989934423053565\n",
      "==============================================================================================================\n",
      "Polygon(n=18, R=4)\n",
      "side_length calculation done for first time and stored\n",
      "interior_angle calculation done for first time and stored\n",
      "apothem calculation done for first time and stored\n",
      "area calculation done for first time and stored\n",
      "perimeter calculation done for first time and stored\n",
      "number of vertices = 18    number of edges = 18    Edge Length = 1.3891854213354426    interior angle = 160.0    apothem = 3.939231012048832    area = 49.25090063889629    perimeter = 25.005337584037967\n",
      "==============================================================================================================\n"
     ]
    }
   ],
   "source": [
    "polygons = Polygons(18,4)\n",
    "iterpolygon = iter(polygons)\n",
    "for poly in iterpolygon:\n",
    "    print(poly)\n",
    "    print(f'number of vertices = {poly.count_vertices}\\\n",
    "    number of edges = {poly.count_edges}\\\n",
    "    Edge Length = {poly.side_length}\\\n",
    "    interior angle = {poly.interior_angle}\\\n",
    "    apothem = {poly.apothem}\\\n",
    "    area = {poly.area}\\\n",
    "    perimeter = {poly.perimeter}')\n",
    "    print(\"==============================================================================================================\")"
   ]
  },
  {
   "cell_type": "code",
   "execution_count": null,
   "metadata": {},
   "outputs": [],
   "source": []
  }
 ],
 "metadata": {
  "kernelspec": {
   "display_name": "Python 3",
   "language": "python",
   "name": "python3"
  },
  "language_info": {
   "codemirror_mode": {
    "name": "ipython",
    "version": 3
   },
   "file_extension": ".py",
   "mimetype": "text/x-python",
   "name": "python",
   "nbconvert_exporter": "python",
   "pygments_lexer": "ipython3",
   "version": "3.8.3"
  }
 },
 "nbformat": 4,
 "nbformat_minor": 4
}
